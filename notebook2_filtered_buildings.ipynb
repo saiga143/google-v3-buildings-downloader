{
 "cells": [
  {
   "cell_type": "markdown",
   "id": "6b5b94ca-6486-4c0d-a992-91aadbbe469c",
   "metadata": {},
   "source": [
    "# 🛠️ Extracting Google Buildings V3 Data for Your Region of Interest\n",
    "\n",
    "## 📋 Overview\n",
    "\n",
    "In this notebook, you will:\n",
    "\n",
    "- Load .geojson.gz building tiles downloaded in notebook 1\n",
    "- Load your region of interest polygons (e.g., disjoint grids, urban clusters)\n",
    "- Process each tile in chunks (to avoid memory crashes)\n",
    "- Filter buildings that intersect with the ROI\n",
    "- Save only the filtered buildings to a .gpkg file"
   ]
  },
  {
   "cell_type": "markdown",
   "id": "7bd96789-08d8-4383-bc6f-784846ecb4e2",
   "metadata": {},
   "source": [
    "## 📦 Required Libraries"
   ]
  },
  {
   "cell_type": "code",
   "execution_count": null,
   "id": "58986dec-82a7-415c-b233-7f2886704539",
   "metadata": {},
   "outputs": [],
   "source": [
    "import os\n",
    "import gzip\n",
    "import pandas as pd\n",
    "import geopandas as gpd\n",
    "from shapely import wkt\n",
    "from shapely.geometry import MultiPolygon, Polygon\n",
    "from tqdm import tqdm"
   ]
  },
  {
   "cell_type": "markdown",
   "id": "2661e23b-ba43-466a-a369-6bfcc5e5e0ff",
   "metadata": {},
   "source": [
    "## 🔹 Step 1: Define Paths for Input, ROI, and Output"
   ]
  },
  {
   "cell_type": "code",
   "execution_count": null,
   "id": "3de464e0-b881-4c29-9352-bf2e85c70e63",
   "metadata": {},
   "outputs": [],
   "source": [
    "# Input folder where tiles were downloaded in Step 1\n",
    "input_dir = r\"/home/saiganeshv/Desktop/Google V3 Download/Outputs/sample_ROI_tiles\"\n",
    "\n",
    "# Path to the country-specific urban clusters (can be grid, slum polygons, etc.)\n",
    "segments_path = r\"/home/saiganeshv/Desktop/Google V3 Download/sample_ROI.gpkg\"\n",
    "\n",
    "# Output path to store only filtered buildings\n",
    "output_path = r\"/home/saiganeshv/Desktop/Google V3 Download/Outputs/sample_ROI_filtered_buildings.gpkg\"\n"
   ]
  },
  {
   "cell_type": "markdown",
   "id": "f7c670e0-1e49-4a4a-a2ad-d17a6386cc12",
   "metadata": {},
   "source": [
    "## 🔹 Step 2: Load the Region of Interest (ROI)"
   ]
  },
  {
   "cell_type": "code",
   "execution_count": null,
   "id": "2c5d807c-db41-4a2c-967b-0185e31a8250",
   "metadata": {},
   "outputs": [],
   "source": [
    "# Load ROI polygons and ensure CRS matches building data\n",
    "roi = gpd.read_file(segments_path).to_crs(\"EPSG:4326\")\n",
    "\n",
    "# Create a single unioned geometry for fast spatial filtering\n",
    "roi_union = roi.unary_union"
   ]
  },
  {
   "cell_type": "markdown",
   "id": "778c5f8c-6a76-4359-b467-cc88491b7996",
   "metadata": {},
   "source": [
    "## 🔹 Step 3: Function to Convert All Geometries to MultiPolygon"
   ]
  },
  {
   "cell_type": "code",
   "execution_count": null,
   "id": "8bbd9ca6-313c-40f7-b376-6dc49e0fc580",
   "metadata": {},
   "outputs": [],
   "source": [
    "# Convert single Polygon to MultiPolygon to avoid GeoPackage type warnings\n",
    "def ensure_multipolygon(geom):\n",
    "    if isinstance(geom, Polygon):\n",
    "        return MultiPolygon([geom])\n",
    "    return geom\n"
   ]
  },
  {
   "cell_type": "markdown",
   "id": "0e0e04c4-afc4-47c2-8019-2a699798f70a",
   "metadata": {},
   "source": [
    "## 🔹 Step 4: Process Each Tile in Chunks and Filter by ROI\n",
    "\n",
    "**⚠️ Important Note:** Google V3 `.geojson.gz` tiles are actually **CSV files**, **not valid GeoJSON**\n",
    "\n",
    "Although the downloaded files have a `.geojson.gz` extension, they are **not GeoJSON FeatureCollections**. Instead, each file is a **CSV** (comma-separated text) that:\n",
    "\n",
    "- Contains one row per building\n",
    "- Stores the building geometry as a **WKT (Well-Known Text)** string (in the geometry column)\n",
    "- Includes other fields like `confidence`, `area_in_meters`, and **location info**\n",
    "\n",
    "Therefore, we **do not use** `gpd.read_file()` to load them.\n",
    "\n",
    "Instead, we:\n",
    "\n",
    "- Open the file using `gzip`\n",
    "- Load it using `pandas.read_csv(...)`\n",
    "- Convert the WKT strings to shapely geometries using `wkt.loads(...)`\n",
    "- Convert the DataFrame into a proper `GeoDataFrame`\n",
    "\n",
    "This step is necessary to correctly parse and spatially filter the data."
   ]
  },
  {
   "cell_type": "code",
   "execution_count": null,
   "id": "5d03f445-c959-4a7b-96b0-9c80f470fdc0",
   "metadata": {},
   "outputs": [],
   "source": [
    "def process_tile(fname, chunk_size=7000): #change chunk_size based on your CPU and RAM. Higher value speeds processing but requires more RAM and cpu power.\n",
    "    if not fname.endswith(\".geojson.gz\"):\n",
    "        return None\n",
    "\n",
    "    tile_id = fname.replace(\".geojson.gz\", \"\")\n",
    "    in_path = os.path.join(input_dir, fname)\n",
    "\n",
    "    try:\n",
    "        with gzip.open(in_path, \"rt\", encoding=\"utf-8\") as f:\n",
    "            reader = pd.read_csv(f, chunksize=chunk_size)\n",
    "\n",
    "            for chunk in reader:\n",
    "                if \"geometry\" not in chunk.columns:\n",
    "                    return f\"❌ No geometry column in {tile_id}\"\n",
    "\n",
    "                # Convert WKT to shapely geometry and enforce MultiPolygon\n",
    "                chunk[\"geometry\"] = chunk[\"geometry\"].apply(wkt.loads).apply(ensure_multipolygon)\n",
    "                gdf = gpd.GeoDataFrame(chunk, geometry=\"geometry\", crs=\"EPSG:4326\")\n",
    "\n",
    "                # Spatial filter: keep only buildings intersecting ROI\n",
    "                filtered = gdf[gdf.intersects(roi_union)]\n",
    "                \n",
    "                if not filtered.empty:\n",
    "                    # Save filtered buildings to GPKG (append mode)\n",
    "                    filtered.to_file(output_path, driver=\"GPKG\", mode=\"a\", index=False)\n",
    "\n",
    "        return f\"✅ Saved filtered buildings from: {tile_id}\"\n",
    "\n",
    "    except Exception as e:\n",
    "        return f\"❌ Failed: {tile_id} — {type(e).__name__}: {e}\"\n"
   ]
  },
  {
   "cell_type": "markdown",
   "id": "94e72083-69aa-4f0a-b2d8-ff74cf83be60",
   "metadata": {},
   "source": [
    "## 🔹 Step 5: Loop Through All Tiles"
   ]
  },
  {
   "cell_type": "code",
   "execution_count": null,
   "id": "21bc8783-4eaa-4fef-8452-16cf4920ebe3",
   "metadata": {},
   "outputs": [],
   "source": [
    "file_list = os.listdir(input_dir)\n",
    "results = [process_tile(f) for f in tqdm(file_list)]"
   ]
  },
  {
   "cell_type": "markdown",
   "id": "6bdda875-ca63-459e-8199-d47b47470ebd",
   "metadata": {},
   "source": [
    "## 📋 Summary of Results"
   ]
  },
  {
   "cell_type": "code",
   "execution_count": null,
   "id": "1cdbd6f4-c9d2-4518-909b-4987273a526b",
   "metadata": {},
   "outputs": [],
   "source": [
    "# Print outcome for each tile\n",
    "for r in results:\n",
    "    if r:\n",
    "        print(r)\n"
   ]
  },
  {
   "cell_type": "markdown",
   "id": "f7640570-001e-439d-accd-b61ac32db7fa",
   "metadata": {},
   "source": [
    "## ✅ Notebook Summary\n",
    "\n",
    "By the end of this notebook, you will have:\n",
    "\n",
    "- A GeoPackage file (.gpkg) with only the buildings that intersect your area of interest\n",
    "- Efficiently avoided processing/storing buildings outside your target zones\n",
    "- A scalable, memory-safe pipeline that works even for large cities or countries"
   ]
  },
  {
   "cell_type": "markdown",
   "id": "7bd3ed1f-3db3-4e7b-860f-c36f890be88f",
   "metadata": {},
   "source": [
    "**If you want to get notified when the download is completed or Jupyter Notebook is done running, get a notification on Telegram. Look at this blog post:** https://sola.kau.se/deprimap/2025/07/16/telegram-bot/"
   ]
  }
 ],
 "metadata": {
  "kernelspec": {
   "display_name": "Python 3 (ipykernel)",
   "language": "python",
   "name": "python3"
  },
  "language_info": {
   "codemirror_mode": {
    "name": "ipython",
    "version": 3
   },
   "file_extension": ".py",
   "mimetype": "text/x-python",
   "name": "python",
   "nbconvert_exporter": "python",
   "pygments_lexer": "ipython3",
   "version": "3.13.0"
  }
 },
 "nbformat": 4,
 "nbformat_minor": 5
}
