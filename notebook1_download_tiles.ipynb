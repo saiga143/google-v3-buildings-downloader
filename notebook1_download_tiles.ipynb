{
 "cells": [
  {
   "cell_type": "markdown",
   "id": "3da9528d-cf61-4055-ab39-c3c457efdd24",
   "metadata": {},
   "source": [
    "# 🧭 Discovering and Downloading Google Buildings V3 Tiles for a Region of Interest\n",
    "\n",
    "## 📋 Overview\n",
    "\n",
    "In this notebook, you will:\n",
    "\n",
    "- Load the Google V3 tile index file\n",
    "- Load your Region of Interest (ROI) polygons (can be single or multiple disjoint areas)\n",
    "- Filter tiles that intersect with the ROI\n",
    "- Download only those tiles (as `.geojson.gz`) to a local folder"
   ]
  },
  {
   "cell_type": "markdown",
   "id": "2013d77a-61dd-43c9-a5b9-31646ac92913",
   "metadata": {},
   "source": [
    "## 📦 Required Libraries"
   ]
  },
  {
   "cell_type": "code",
   "execution_count": null,
   "id": "866508f2-2110-4421-b1ed-86372560d227",
   "metadata": {},
   "outputs": [],
   "source": [
    "import geopandas as gpd\n",
    "import pandas as pd\n",
    "import matplotlib.pyplot as plt\n",
    "import os\n",
    "import requests\n",
    "from tqdm import tqdm"
   ]
  },
  {
   "cell_type": "markdown",
   "id": "559d769d-2de9-4f2a-a541-9f0d5b3624fe",
   "metadata": {},
   "source": [
    "## 🔹 Step 1: Load the Google Buildings V3 Tile Index"
   ]
  },
  {
   "cell_type": "code",
   "execution_count": null,
   "id": "52f815a3-6716-4c51-b35a-10c3ad434a67",
   "metadata": {},
   "outputs": [],
   "source": [
    "# Path to the official tile index GeoJSON file (public metadata) - provided in github repo\n",
    "tile_path = r\"/home/saiganeshv/Desktop/Google V3 Download/tiles.geojson\"\n",
    "\n",
    "# Load the tile index as a GeoDataFrame\n",
    "tiles_gdf = gpd.read_file(tile_path)\n",
    "\n",
    "# Preview the tile index\n",
    "print(tiles_gdf.head())\n",
    "\n",
    "# View column names\n",
    "print(\"Columns:\", tiles_gdf.columns.tolist())\n",
    "\n",
    "# Check CRS (should be WGS84 - EPSG:4326)\n",
    "print(\"CRS:\", tiles_gdf.crs)\n"
   ]
  },
  {
   "cell_type": "markdown",
   "id": "cd8543a3-5f36-4f2e-928e-ee5705a6a144",
   "metadata": {},
   "source": [
    "### 🗺️ Visualize All Available Tiles"
   ]
  },
  {
   "cell_type": "code",
   "execution_count": null,
   "id": "7e97366e-ad3a-47ac-8519-737a2e6fbb7b",
   "metadata": {},
   "outputs": [],
   "source": [
    "tiles_gdf.plot(figsize=(12, 10), edgecolor='black')\n",
    "plt.title(\"Google Buildings V3 – Global Tile Coverage\")\n",
    "plt.show()"
   ]
  },
  {
   "cell_type": "markdown",
   "id": "814abaa1-3c96-4c7f-b8c4-0e1ffb642e65",
   "metadata": {},
   "source": [
    "## 🔹 Step 2: Load Your Region of Interest (ROI)\n",
    "\n",
    "This can be any polygon: city boundary, country grid, slum clusters, etc."
   ]
  },
  {
   "cell_type": "code",
   "execution_count": null,
   "id": "465969bc-f3f2-466c-a391-c92fd9886d87",
   "metadata": {},
   "outputs": [],
   "source": [
    "# Path to your region of interest (ROI) polygons\n",
    "grid_fp = r\"/home/saiganeshv/Desktop/Google V3 Download/sample_ROI.gpkg\"\n",
    "\n",
    "# Load the GeoPackage file (use your ROI source here)\n",
    "country_grid = gpd.read_file(grid_fp)\n",
    "\n",
    "# Ensure the CRS matches the tiles CRS\n",
    "if country_grid.crs != tiles_gdf.crs:\n",
    "    country_grid = country_grid.to_crs(tiles_gdf.crs)\n"
   ]
  },
  {
   "cell_type": "markdown",
   "id": "a9239da8-93fc-4a51-8a84-ff238a6d655b",
   "metadata": {},
   "source": [
    "### 🧭 Convert ROI to a Single Geometry for Efficient Filtering"
   ]
  },
  {
   "cell_type": "code",
   "execution_count": null,
   "id": "87424d5b-8aae-45ef-a06e-974b4e07910e",
   "metadata": {},
   "outputs": [],
   "source": [
    "# Merge all ROI polygons into one (multi-part geometry)\n",
    "roi_geom = country_grid.unary_union"
   ]
  },
  {
   "cell_type": "markdown",
   "id": "bdae75bf-1bf0-443a-9d8a-7abcbfecd71d",
   "metadata": {},
   "source": [
    "## 🔹 Step 3: Filter Only the Tiles That Intersect with ROI"
   ]
  },
  {
   "cell_type": "code",
   "execution_count": null,
   "id": "04e53197-0b28-4c3a-9c30-b56ea1f14ba2",
   "metadata": {},
   "outputs": [],
   "source": [
    "# Select only tiles that intersect with the ROI and are non-empty\n",
    "tiles_subset = tiles_gdf[\n",
    "    tiles_gdf.intersects(roi_geom) & \n",
    "    (tiles_gdf[\"size_mb\"] > 0)\n",
    "]\n",
    "\n",
    "print(f\"Tiles selected for download: {len(tiles_subset)}\")"
   ]
  },
  {
   "cell_type": "markdown",
   "id": "e9239f64-7e14-4ef8-a77b-6a70f3083e79",
   "metadata": {},
   "source": [
    "### 🗺️ Visualize Selected Tiles"
   ]
  },
  {
   "cell_type": "code",
   "execution_count": null,
   "id": "c2ee1dbd-15cd-4ac7-b1e7-e09cd718948f",
   "metadata": {},
   "outputs": [],
   "source": [
    "tiles_subset.plot(edgecolor='red', figsize=(10, 8))\n",
    "plt.title(\"Tiles Intersecting ROI\")\n",
    "plt.show()"
   ]
  },
  {
   "cell_type": "markdown",
   "id": "a01e4750-e8e8-498b-a25f-7b66424325c6",
   "metadata": {},
   "source": [
    "## 🔹 Step 4: Download the Filtered Tiles"
   ]
  },
  {
   "cell_type": "code",
   "execution_count": null,
   "id": "08b45a9c-5d82-4bef-8a89-39955208ca5d",
   "metadata": {},
   "outputs": [],
   "source": [
    "# Output folder to save downloaded tiles\n",
    "out_dir = r\"/home/saiganeshv/Desktop/Google V3 Download/Outputs/sample_ROI_tiles\"\n",
    "os.makedirs(out_dir, exist_ok=True)"
   ]
  },
  {
   "cell_type": "code",
   "execution_count": null,
   "id": "844a331e-f810-4b98-a305-4617c4ec5c2e",
   "metadata": {},
   "outputs": [],
   "source": [
    "# Loop through each selected tile and download only if not already present\n",
    "for _, row in tqdm(tiles_subset.iterrows(), total=len(tiles_subset)):\n",
    "    url = row[\"tile_url\"]\n",
    "    tile_id = row[\"tile_id\"]\n",
    "    out_path = os.path.join(out_dir, f\"{tile_id}.geojson.gz\")\n",
    "\n",
    "    if not os.path.exists(out_path):\n",
    "        try:\n",
    "            r = requests.get(url, timeout=60)\n",
    "            r.raise_for_status()  # Raise error for failed requests\n",
    "            with open(out_path, \"wb\") as f:\n",
    "                f.write(r.content)\n",
    "        except Exception as e:\n",
    "            print(f\"❌ Failed to download {tile_id}: {e}\")\n",
    "    else:\n",
    "        print(f\"✔️ Already exists: {tile_id}\")\n"
   ]
  },
  {
   "cell_type": "markdown",
   "id": "82d8df1c-990f-41c0-92f6-c65e2f3d9e60",
   "metadata": {},
   "source": [
    "### ✅ Notebook Summary\n",
    "\n",
    "At the end of this notebook, you will have:\n",
    "- A filtered list of tiles that intersect with your area of interest\n",
    "- A local folder containing only the relevant `.geojson.gz` files\n",
    "- This prepares you for efficient processing in Step 2, where you'll clip and extract only relevant building footprints\n",
    "\n",
    "*Note: The `tiles.geojson` file is provided in github repo*"
   ]
  },
  {
   "cell_type": "markdown",
   "id": "ceb1d096-c1f4-4788-86ee-698aca881cd1",
   "metadata": {},
   "source": [
    "**If you want to get notified when the download is completed or Jupyter Notebook is done running, get a notification on Telegram. Look at this blog post:** https://sola.kau.se/deprimap/2025/07/16/telegram-bot/"
   ]
  }
 ],
 "metadata": {
  "kernelspec": {
   "display_name": "Python 3 (ipykernel)",
   "language": "python",
   "name": "python3"
  },
  "language_info": {
   "codemirror_mode": {
    "name": "ipython",
    "version": 3
   },
   "file_extension": ".py",
   "mimetype": "text/x-python",
   "name": "python",
   "nbconvert_exporter": "python",
   "pygments_lexer": "ipython3",
   "version": "3.13.0"
  }
 },
 "nbformat": 4,
 "nbformat_minor": 5
}
